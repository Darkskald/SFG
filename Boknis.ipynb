{
 "cells": [
  {
   "cell_type": "code",
   "execution_count": 1,
   "metadata": {
    "code_folding": [
     15
    ]
   },
   "outputs": [],
   "source": [
    "from boknis_eck import BEDatabaseWizard\n",
    "from spectrum import SfgAverager, DummyPlotter \n",
    "\n",
    "from datetime import datetime, date, timedelta\n",
    "import numpy as np\n",
    "import pandas as pd\n",
    "import matplotlib.pyplot as plt\n",
    "from matplotlib import rcParams\n",
    "from matplotlib.dates import MonthLocator, DateFormatter\n",
    "from matplotlib.lines import Line2D\n",
    "\n",
    "%matplotlib qt\n",
    "plt.style.use(\"qt.mpltstyle\")\n",
    "\n",
    "# plot functions\n",
    "\n",
    "\n",
    "bz = BEDatabaseWizard()\n",
    "\n"
   ]
  },
  {
   "cell_type": "code",
   "execution_count": 2,
   "metadata": {},
   "outputs": [
    {
     "name": "stderr",
     "output_type": "stream",
     "text": [
      "/home/flo/PycharmProjects/SFG/boknis_eck.py:497: SettingWithCopyWarning: \n",
      "A value is trying to be set on a copy of a slice from a DataFrame.\n",
      "Try using .loc[row_indexer,col_indexer] = value instead\n",
      "\n",
      "See the caveats in the documentation: http://pandas.pydata.org/pandas-docs/stable/user_guide/indexing.html#returning-a-view-versus-a-copy\n",
      "  df[f'norm_{i}'] = df[i] / df[i].max()\n"
     ]
    }
   ],
   "source": [
    "%matplotlib qt\n",
    "plt.style.use(\"qt.mpltstyle\")\n",
    "\n",
    "a = bz.process_years(2009,2012)\n"
   ]
  },
  {
   "cell_type": "code",
   "execution_count": 3,
   "metadata": {},
   "outputs": [
    {
     "name": "stderr",
     "output_type": "stream",
     "text": [
      "/home/flo/PycharmProjects/SFG/boknis_eck.py:631: SettingWithCopyWarning: \n",
      "A value is trying to be set on a copy of a slice from a DataFrame\n",
      "\n",
      "See the caveats in the documentation: http://pandas.pydata.org/pandas-docs/stable/user_guide/indexing.html#returning-a-view-versus-a-copy\n",
      "  records[key].sort_values(\"sampling_date\", inplace=True)\n",
      "findfont: Font family ['arial'] not found. Falling back to DejaVu Sans.\n"
     ]
    }
   ],
   "source": [
    "from boknis_eck import polar_plot_coverage\n",
    "\n",
    "polar_plot_coverage(a)"
   ]
  }
 ],
 "metadata": {
  "kernelspec": {
   "display_name": "Python 3",
   "language": "python",
   "name": "python3"
  },
  "language_info": {
   "codemirror_mode": {
    "name": "ipython",
    "version": 3
   },
   "file_extension": ".py",
   "mimetype": "text/x-python",
   "name": "python",
   "nbconvert_exporter": "python",
   "pygments_lexer": "ipython3",
   "version": "3.7.3"
  }
 },
 "nbformat": 4,
 "nbformat_minor": 2
}
