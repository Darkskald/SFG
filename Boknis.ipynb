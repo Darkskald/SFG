{
 "cells": [
  {
   "cell_type": "code",
   "execution_count": 1,
   "metadata": {
    "code_folding": [
     15
    ]
   },
   "outputs": [],
   "source": [
    "from boknis_eck import BEDatabaseWizard, Plotter\n",
    "from spectrum import SfgAverager, DummyPlotter \n",
    "\n",
    "from datetime import datetime, date, timedelta\n",
    "import numpy as np\n",
    "import pandas as pd\n",
    "import matplotlib.pyplot as plt\n",
    "from matplotlib import rcParams\n",
    "from matplotlib.dates import MonthLocator, DateFormatter\n",
    "from matplotlib.lines import Line2D\n",
    "import matplotlib.ticker as ticker\n",
    "\n",
    "from sqlalchemy import extract\n",
    "\n",
    "# plot functions\n",
    "\n",
    "\n",
    "bz = BEDatabaseWizard()\n",
    "\n",
    "t = bz.session.query(bz.boknis_eck).filter(bz.boknis_eck.is_mapped == 1).filter(extract('month', bz.boknis_eck.sampling_date) == 4)"
   ]
  },
  {
   "cell_type": "code",
   "execution_count": 2,
   "metadata": {},
   "outputs": [
    {
     "name": "stdout",
     "output_type": "stream",
     "text": [
      "debug: refine is deep\n",
      "debug: refine is deep\n",
      "debug: refine is deep\n",
      "debug: refine is deep\n",
      "debug: refine is deep\n",
      "debug: refine is deep\n",
      "debug: refine is deep\n",
      "debug: refine is deep\n",
      "debug: refine is deep\n",
      "debug: refine is deep\n",
      "debug: refine is deep\n",
      "debug: refine is deep\n"
     ]
    },
    {
     "name": "stderr",
     "output_type": "stream",
     "text": [
      "/home/flo/PycharmProjects/SFG/spectrum.py:97: RuntimeWarning: divide by zero encountered in true_divide\n",
      "  self.normalized_intensity = self.raw_intensity / (self.vis_intensity * self.ir_intensity)\n",
      "/home/flo/PycharmProjects/SFG/spectrum.py:97: RuntimeWarning: invalid value encountered in true_divide\n",
      "  self.normalized_intensity = self.raw_intensity / (self.vis_intensity * self.ir_intensity)\n",
      "/home/flo/anaconda3/lib/python3.7/site-packages/numpy/core/fromnumeric.py:83: RuntimeWarning: invalid value encountered in reduce\n",
      "  return ufunc.reduce(obj, axis, dtype, out, **passkwargs)\n",
      "/home/flo/anaconda3/lib/python3.7/site-packages/numpy/lib/nanfunctions.py:1426: RuntimeWarning: invalid value encountered in subtract\n",
      "  np.subtract(arr, avg, out=arr, casting='unsafe')\n"
     ]
    },
    {
     "data": {
      "text/plain": [
       "<matplotlib.legend.Legend at 0x7f43d80477b8>"
      ]
     },
     "execution_count": 2,
     "metadata": {},
     "output_type": "execute_result"
    },
    {
     "name": "stderr",
     "output_type": "stream",
     "text": [
      "findfont: Font family ['helvetica'] not found. Falling back to DejaVu Sans.\n",
      "findfont: Font family ['helvetica'] not found. Falling back to DejaVu Sans.\n"
     ]
    }
   ],
   "source": [
    "%matplotlib qt\n",
    "plt.style.use(\"qt.mpltstyle\")\n",
    "\n",
    "test = bz.fetch_by_quartal(refine=\"deep\")\n",
    "\n",
    "blubb = [bz.convert_be_to_sfg(i) for i in test[\"q1\"]]\n",
    "av = SfgAverager(blubb, enforce_scale=True)\n",
    "length = len(av.spectra)\n",
    "plt.plot(av.average_spectrum.x, av.average_spectrum.y, marker=\"s\", label=f'q1 ({length} spectra)')\n",
    "\n",
    "blubb = [bz.convert_be_to_sfg(i) for i in test[\"q2\"]]\n",
    "av = SfgAverager(blubb, enforce_scale=True)\n",
    "length = len(av.spectra)\n",
    "plt.plot(av.average_spectrum.x, av.average_spectrum.y, marker=\"s\", label=f'q2 ({length} spectra)')\n",
    "\n",
    "blubb = [bz.convert_be_to_sfg(i) for i in test[\"q3\"]]\n",
    "av = SfgAverager(blubb, enforce_scale=True)\n",
    "length = len(av.spectra)\n",
    "plt.plot(av.average_spectrum.x, av.average_spectrum.y, marker=\"s\", label=f'q3 ({length} spectra)')\n",
    "\n",
    "blubb = [bz.convert_be_to_sfg(i) for i in test[\"q4\"]]\n",
    "av = SfgAverager(blubb, enforce_scale=True)\n",
    "length = len(av.spectra)\n",
    "plt.plot(av.average_spectrum.x, av.average_spectrum.y, marker=\"s\", label=f'q4 ({length} spectra)')\n",
    "\n",
    "plt.legend()"
   ]
  },
  {
   "cell_type": "code",
   "execution_count": null,
   "metadata": {
    "code_folding": []
   },
   "outputs": [],
   "source": []
  },
  {
   "cell_type": "code",
   "execution_count": null,
   "metadata": {},
   "outputs": [],
   "source": []
  }
 ],
 "metadata": {
  "kernelspec": {
   "display_name": "Python 3",
   "language": "python",
   "name": "python3"
  },
  "language_info": {
   "codemirror_mode": {
    "name": "ipython",
    "version": 3
   },
   "file_extension": ".py",
   "mimetype": "text/x-python",
   "name": "python",
   "nbconvert_exporter": "python",
   "pygments_lexer": "ipython3",
   "version": "3.7.3"
  }
 },
 "nbformat": 4,
 "nbformat_minor": 2
}
