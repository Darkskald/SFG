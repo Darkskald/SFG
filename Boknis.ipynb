{
 "cells": [
  {
   "cell_type": "code",
   "execution_count": 1,
   "metadata": {
    "code_folding": [
     15,
     22,
     57
    ]
   },
   "outputs": [],
   "source": [
    "from boknis_eck import BEDatabaseWizard\n",
    "from spectrum import SfgAverager, DummyPlotter \n",
    "\n",
    "from datetime import datetime, date, timedelta\n",
    "import numpy as np\n",
    "import pandas as pd\n",
    "import matplotlib.pyplot as plt\n",
    "from matplotlib import rcParams\n",
    "from matplotlib.dates import MonthLocator, DateFormatter\n",
    "from matplotlib.lines import Line2D\n",
    "\n",
    "%matplotlib qt\n",
    "plt.style.use(\"qt.mpltstyle\")\n",
    "\n",
    "# plot functions\n",
    "def plot_by_time(dataframes, param, leg, scale=1):\n",
    "    fig, ax = plt.subplots()\n",
    "    ax2 = ax.twinx()\n",
    "\n",
    "    months = MonthLocator(range(1, 13), bymonthday=1, interval=6)\n",
    "    monthsFmt = DateFormatter(\"%b '%y\")\n",
    "   \n",
    "    for df in dataframes:\n",
    "        \n",
    "        ax.scatter(df[\"sampling_date\"], df[\"sml_\"+param]*scale, color=\"red\")\n",
    "        ax.scatter(df[\"sampling_date\"], df[\"bulk_\"+param]*scale, color=\"blue\", marker=\"^\")\n",
    "        ax2.scatter(df[\"sampling_date\"], df[\"chlorophyll\"], color=\"green\", marker=\"+\")\n",
    "\n",
    "        #ax.plot(df[\"sampling_date\"], df[\"sml_\"+param]*scale, color=\"red\")\n",
    "        #ax.plot(df[\"sampling_date\"], df[\"bulk_\"+param]*scale, color=\"blue\")\n",
    "        #ax2.plot(df[\"sampling_date\"], df[\"chlorophyll\"], color=\"green\")\n",
    "\n",
    "\n",
    "    #for i in range(8, 20, 1):\n",
    "            #lower = str(date(2000+i, 3, 1))\n",
    "            #upper = str(date(2000 + i, 9, 1))\n",
    "            #ax.axvspan(lower, upper, color=\"gray\", alpha=0.4)\n",
    "\n",
    "    legend_elements = [Line2D([0], [0], marker='^', label='Bulk water',\n",
    "                              markerfacecolor='blue', mew=0.3,  mec=\"blue\", aa=True, linestyle=''),\n",
    "                               Line2D([0], [0], marker='o', label='Surface microlayer',\n",
    "                                       markerfacecolor='red', mew=0.3, mec=\"red\", aa=True, linestyle=''),\n",
    "                               Line2D([0], [0], marker='+', label='Chlorophyll a',\n",
    "                                       markerfacecolor='green', mew=2, mec=\"green\", aa=True, linestyle='', markersize=10)\n",
    "                                ]\n",
    "\n",
    "    ax.legend(handles=legend_elements)\n",
    "    ax.xaxis.set_major_locator(months)\n",
    "    ax.xaxis.set_major_formatter(monthsFmt)\n",
    "    ax.autoscale_view()\n",
    "    fig.autofmt_xdate()\n",
    "\n",
    "    ax.set_xlabel(\"time \")\n",
    "    ax.set_ylabel(leg)\n",
    "    ax2.set_ylabel(\"Chlorophyll a concentration/\\n µg/L\")\n",
    "    rcParams['xtick.labelsize'] = 'small'\n",
    "\n",
    "def plot_ratio_by_time(dataframes, params):\n",
    "    fig, ax = plt.subplots()\n",
    "    ax2 = ax.twinx()\n",
    "\n",
    "    months = MonthLocator(range(1, 13), bymonthday=1, interval=6)\n",
    "    monthsFmt = DateFormatter(\"%b '%y\")\n",
    "   \n",
    "    for df in dataframes:\n",
    "        \n",
    "        if params[1] == \"oh\":\n",
    "            sml_total_oh = df[\"sml_oh1\"]+df[\"sml_oh2\"]\n",
    "            bulk_total_oh = df[\"bulk_oh1\"]+df[\"bulk_oh2\"]     \n",
    "            sml_ratio = df[\"sml_\"+params[0]]/sml_total_oh\n",
    "            bulk_ratio = df[\"bulk_\"+params[0]]/bulk_total_oh\n",
    "            \n",
    "        else: \n",
    "            sml_ratio = df[\"sml_\"+params[0]]/df[\"sml_\"+params[1]]\n",
    "            bulk_ratio = df[\"bulk_\"+params[0]]/df[\"bulk_\"+params[1]]\n",
    "        \n",
    "        ax.scatter(df[\"sampling_date\"], sml_ratio, color=\"red\")\n",
    "        ax.scatter(df[\"sampling_date\"], bulk_ratio, color=\"blue\", marker=\"^\")\n",
    "        ax2.scatter(df[\"sampling_date\"], df[\"chlorophyll\"], color=\"green\", marker=\"+\")\n",
    "\n",
    "        #ax.plot(df[\"sampling_date\"], sml_ratio, color=\"red\")\n",
    "        #ax.plot(df[\"sampling_date\"], bulk_ratio, color=\"blue\")\n",
    "        #ax2.plot(df[\"sampling_date\"], df[\"chlorophyll\"], color=\"green\")\n",
    "\n",
    "\n",
    "    for i in range(8, 20, 1):\n",
    "            lower = date(2000+i, 3, 1)\n",
    "            upper = date(2000 + i, 9, 1)\n",
    "            ax.axvspan(lower, upper, color=\"gray\", alpha=0.4)\n",
    "\n",
    "    legend_elements = [Line2D([0], [0], marker='^', label='Bulk water',\n",
    "                              markerfacecolor='blue', mew=0.3,  mec=\"blue\", aa=True, linestyle=''),\n",
    "                               Line2D([0], [0], marker='o', label='Surface microlayer',\n",
    "                                       markerfacecolor='red', mew=0.3, mec=\"red\", aa=True, linestyle=''),\n",
    "                               Line2D([0], [0], marker='+', label='Chlorophyll a',\n",
    "                                       markerfacecolor='green', mew=2, mec=\"green\", aa=True, linestyle='', markersize=10)\n",
    "                                ]\n",
    "\n",
    "    ax.legend(handles=legend_elements)\n",
    "    ax.xaxis.set_major_locator(months)\n",
    "    ax.xaxis.set_major_formatter(monthsFmt)\n",
    "    ax.autoscale_view()\n",
    "    fig.autofmt_xdate()\n",
    "\n",
    "    ax.set_xlabel(\"time \")\n",
    "    ax.set_ylabel(f'{params[0]}/{params[1]} ratio')\n",
    "    ax2.set_ylabel(\"Chlorophyll a concentration/\\n µg/L\")\n",
    "    rcParams['xtick.labelsize'] = 'small'\n",
    "\n",
    "    plt.show()\n",
    "\n",
    "\n",
    "bz = BEDatabaseWizard()\n",
    "\n"
   ]
  },
  {
   "cell_type": "code",
   "execution_count": 55,
   "metadata": {},
   "outputs": [
    {
     "name": "stderr",
     "output_type": "stream",
     "text": [
      "findfont: Font family ['arial'] not found. Falling back to DejaVu Sans.\n"
     ]
    }
   ],
   "source": [
    "%matplotlib qt\n",
    "plt.style.use(\"qt.mpltstyle\")\n",
    "\n",
    "# todo: filter function returns no type datetime.date \n",
    "df = bz.filter_date('2008-01-01', '2015-12-31')\n",
    "#df[\"sampling_date\"]=df[\"sampling_date\"].apply(lambda x: x.date())\n",
    "plot_by_time([df], \"coverage\", \"somelegend\")\n"
   ]
  },
  {
   "cell_type": "code",
   "execution_count": null,
   "metadata": {
    "code_folding": [],
    "scrolled": true
   },
   "outputs": [],
   "source": [
    "# Origin-compatible date\n",
    "df ['sampling_date'] = df[\"sampling_date\"].dt.strftime('%d.%m.%Y')\n",
    "\n"
   ]
  },
  {
   "cell_type": "code",
   "execution_count": 2,
   "metadata": {},
   "outputs": [],
   "source": [
    "def scale_to_polar(array):\n",
    "    \"\"\"Normalize the input array to the interva, [0, 2 PI]. Usefull for polar plots.\"\"\"\n",
    "    min_ = 1\n",
    "    max_ = 365\n",
    "    \n",
    "    scale = np.pi*2*((array-min_)/(max_-min_))\n",
    "    return scale\n",
    "\n",
    "\n"
   ]
  },
  {
   "cell_type": "code",
   "execution_count": null,
   "metadata": {},
   "outputs": [],
   "source": []
  },
  {
   "cell_type": "code",
   "execution_count": 17,
   "metadata": {},
   "outputs": [],
   "source": [
    "def polar_plot_coverage(records):\n",
    "    fig = plt.figure()\n",
    "    ax = fig.add_subplot(111, projection='polar')\n",
    "\n",
    "    # ensure 0° is pointing upwards\n",
    "    ax.set_theta_zero_location(\"N\")\n",
    "    # make theta grow clockwise\n",
    "    ax.set_theta_direction(-1)\n",
    "\n",
    "    # labels of the theta gridlines set as month abbreviations\n",
    "    angles = (0, 31, 59.25, 90.25, 120.25, 151.25, 181.25, 212.25, 243.25, 273.25, 304.25, 334.25)\n",
    "    months = (\"Jan\", \"Feb\", \"Mar\" , \"Apr\", \"May\", \"Jun\", \"Jul\", \"Aug\", \"Sep\", \"Oct\", \"Nov\", \"Dec\" )\n",
    "\n",
    "    # customize theta gridlines and labels\n",
    "    lines,label = plt.thetagrids( angles, months)\n",
    "\n",
    "    for key in records:\n",
    "        dates = records[key][\"sampling_date\"].apply(lambda x: x.timetuple().tm_yday)\n",
    "        dates = scale_to_polar(dates)\n",
    "        \n",
    "        c = ax.scatter(dates, records[key][\"norm_sml_coverage\"], marker=\"o\", color=\"red\")\n",
    "        c = ax.scatter(dates, records[key][\"norm_bulk_coverage\"], marker=\"x\", color=\"blue\")\n",
    "    "
   ]
  },
  {
   "cell_type": "code",
   "execution_count": 63,
   "metadata": {
    "code_folding": []
   },
   "outputs": [],
   "source": [
    "def process_years(be_db_wz):\n",
    "    \"\"\"Call the normalize_year_records function for each yearly record\"\"\"\n",
    "    out = {}\n",
    "    years = (i for i in range(2009, 2019) if i != 2016)\n",
    "    for year in years:\n",
    "        out[year] = normalize_year_records(be_db_wz.filter_year(year))\n",
    "    return out\n",
    "\n",
    "def normalize_year_records(df):\n",
    "    \"\"\"Normalize the dataset of a particular year to the corresponding maximum values\"\"\"\n",
    "    \n",
    "    #todo: implement this for all the other params\n",
    "    for i in (\"sml_coverage\", \"bulk_coverage\", \"sml_ch\", \"\"):\n",
    "        df[f'norm_{i}'] = df[i] / df[i].max()\n",
    "    return df"
   ]
  },
  {
   "cell_type": "code",
   "execution_count": 64,
   "metadata": {},
   "outputs": [
    {
     "name": "stderr",
     "output_type": "stream",
     "text": [
      "/home/flo/anaconda3/lib/python3.7/site-packages/ipykernel_launcher.py:14: SettingWithCopyWarning: \n",
      "A value is trying to be set on a copy of a slice from a DataFrame.\n",
      "Try using .loc[row_indexer,col_indexer] = value instead\n",
      "\n",
      "See the caveats in the documentation: http://pandas.pydata.org/pandas-docs/stable/user_guide/indexing.html#returning-a-view-versus-a-copy\n",
      "  \n",
      "/home/flo/anaconda3/lib/python3.7/site-packages/ipykernel_launcher.py:7: SettingWithCopyWarning: \n",
      "A value is trying to be set on a copy of a slice from a DataFrame\n",
      "\n",
      "See the caveats in the documentation: http://pandas.pydata.org/pandas-docs/stable/user_guide/indexing.html#returning-a-view-versus-a-copy\n",
      "  import sys\n"
     ]
    },
    {
     "data": {
      "text/plain": [
       "<matplotlib.legend.Legend at 0x7ff800151780>"
      ]
     },
     "execution_count": 64,
     "metadata": {},
     "output_type": "execute_result"
    }
   ],
   "source": [
    "%matplotlib qt\n",
    "q = process_years(bz)\n",
    "#polar_plot_coverage(q)\n",
    "q[2014][\"sampling_date\"].dt.month\n",
    "\n",
    "for key in q:\n",
    "    q[key].sort_values(\"sampling_date\", inplace=True)\n",
    "    plt.scatter(q[key][\"sampling_date\"].dt.month, q[key][\"norm_sml_ch\"], marker=\"o\", label=key)\n",
    "plt.legend()"
   ]
  }
 ],
 "metadata": {
  "kernelspec": {
   "display_name": "Python 3",
   "language": "python",
   "name": "python3"
  },
  "language_info": {
   "codemirror_mode": {
    "name": "ipython",
    "version": 3
   },
   "file_extension": ".py",
   "mimetype": "text/x-python",
   "name": "python",
   "nbconvert_exporter": "python",
   "pygments_lexer": "ipython3",
   "version": "3.7.3"
  }
 },
 "nbformat": 4,
 "nbformat_minor": 2
}
