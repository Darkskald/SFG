{
 "cells": [
  {
   "cell_type": "code",
   "execution_count": 1,
   "metadata": {
    "code_folding": [
     15
    ]
   },
   "outputs": [
    {
     "data": {
      "text/plain": [
       "'\\nfor ratio in ratios:\\n\\n    out = bz.session.query(bz.regular_lt).filter(bz.regular_lt.surfactant == \"SA\").     filter(bz.regular_lt.sensitizer == \"BX12\").filter(bz.regular_lt.ratio == ratio).all()\\n\\n\\n    out = [bz.convert_regular_to_lt(i) for i in out]\\n    av = LtAverager(out).average_lt()\\n    plt.plot(av.area, av.pressure,  label=ratio)\\n    plt.grid()\\n    \\nplt.legend()\\n'"
      ]
     },
     "execution_count": 1,
     "metadata": {},
     "output_type": "execute_result"
    }
   ],
   "source": [
    "from boknis_eck import BEDatabaseWizard, Plotter\n",
    "from spectrum import SfgAverager, LtAverager, DummyPlotter \n",
    "\n",
    "from datetime import datetime, date, timedelta\n",
    "import numpy as np\n",
    "import pandas as pd\n",
    "import matplotlib.pyplot as plt\n",
    "from matplotlib import rcParams\n",
    "from matplotlib.dates import MonthLocator, DateFormatter\n",
    "from matplotlib.lines import Line2D\n",
    "import matplotlib.ticker as ticker\n",
    "\n",
    "from sqlalchemy import extract\n",
    "\n",
    "# plot functions\n",
    "\n",
    "\n",
    "\n",
    "bz = BEDatabaseWizard()\n",
    "\n",
    "#%matplotlib qt\n",
    "#plt.style.use(\"output.mplstyle\")\n",
    "\n",
    "\"\"\"\n",
    "broken = bz.construct_lt(bz.session.query(bz.lt).filter(bz.lt.id == 575).one())\n",
    "valid = bz.construct_lt(bz.session.query(bz.lt).filter(bz.lt.id == 545).one())\n",
    "\n",
    "\n",
    "plt.plot(broken.apm, broken.pressure, label=\"falsch\")\n",
    "plt.plot(valid.apm, valid.pressure, label=\"korrekt\")\n",
    "\n",
    "plt.xlim(10, 40)\n",
    "plt.xlabel(\"area per molecule/ $\\AA^2$\")\n",
    "plt.ylabel(broken.y_unit)\n",
    "plt.title(\"Arachinsäure-Isothermen (Vergleich)\")\n",
    "plt.legend()\n",
    "\"\"\"\n",
    "\n",
    "ratios = (\"1to1\", \"2to1\", \"4to1\", \"1to2\", \"1to4\")\n",
    "\n",
    "\"\"\"\n",
    "for ratio in ratios:\n",
    "\n",
    "    out = bz.session.query(bz.regular_lt).filter(bz.regular_lt.surfactant == \"SA\"). \\\n",
    "    filter(bz.regular_lt.sensitizer == \"BX12\").filter(bz.regular_lt.ratio == ratio).all()\n",
    "\n",
    "\n",
    "    out = [bz.convert_regular_to_lt(i) for i in out]\n",
    "    av = LtAverager(out).average_lt()\n",
    "    plt.plot(av.area, av.pressure,  label=ratio)\n",
    "    plt.grid()\n",
    "    \n",
    "plt.legend()\n",
    "\"\"\"\n",
    "\n",
    "#bz.plot_by_sampling_date()"
   ]
  },
  {
   "cell_type": "code",
   "execution_count": null,
   "metadata": {},
   "outputs": [],
   "source": [
    "%matplotlib qt\n",
    "\n",
    "\n",
    "test = bz.fetch_by_quartal(refine=\"deep\")\n",
    "blubb = [bz.convert_be_to_sfg(i) for i in test[\"q4\"]]\n",
    "av = SfgAverager(blubb, enforce_scale=True)\n",
    "\n",
    "Plotter().plot_sfg_averager(av)\n",
    "\n"
   ]
  },
  {
   "cell_type": "code",
   "execution_count": 6,
   "metadata": {},
   "outputs": [
    {
     "name": "stdout",
     "output_type": "stream",
     "text": [
      "debug: refine is sml\n",
      "debug: refine is sml\n",
      "debug: refine is sml\n",
      "debug: refine is sml\n",
      "debug: refine is sml\n",
      "debug: refine is sml\n",
      "debug: refine is sml\n",
      "debug: refine is sml\n",
      "debug: refine is sml\n",
      "debug: refine is sml\n",
      "debug: refine is sml\n",
      "debug: refine is sml\n",
      "20090119_Wasserprobe-20090119-3-#1 has no DPPC reference\n",
      "20090119_Wasserprobe-20090119-4-#1 has no DPPC reference\n",
      "20090119_Wasserprobe-20090119-5-#1 has no DPPC reference\n",
      "20090119_Wasserprobe-20090119-6-#1 has no DPPC reference\n",
      "20090527_Wasserprobe-20090520-4-#1 has no DPPC reference\n",
      "20090527_Wasserprobe-20090520-5-#1 has no DPPC reference\n",
      "20090527_Wasserprobe-20090520-6-#1 has no DPPC reference\n",
      "20090527_Wasserprobe-20090520-7-#1 has no DPPC reference\n",
      "20090820_Wasserprobe-20090820-10 has no DPPC reference\n",
      "20090820_Wasserprobe-20090820-12 has no DPPC reference\n",
      "20090820_Wasserprobe-20090820-13 has no DPPC reference\n"
     ]
    },
    {
     "data": {
      "text/plain": [
       "<matplotlib.legend.Legend at 0x173900595f8>"
      ]
     },
     "execution_count": 6,
     "metadata": {},
     "output_type": "execute_result"
    }
   ],
   "source": [
    "%matplotlib qt\n",
    "plt.style.use(\"qt.mpltstyle\")\n",
    "\n",
    "test = bz.fetch_by_quartal(refine=\"sml\")\n",
    "quartals = (\"q1\", \"q2\", \"q3\", \"q4\")\n",
    "\n",
    "for q in quartals:\n",
    "    blubb = bz.normalize_to_reference_integral(test[q])\n",
    "    #blubb = [bz.convert_be_to_sfg(i) for i in test[q]]\n",
    "    av = SfgAverager(blubb, enforce_scale=True)\n",
    "    length = len(av.spectra)\n",
    "    plt.plot(av.average_spectrum.x, av.average_spectrum.y, marker=\"s\", label=f'{q} ({length} spectra)')\n",
    "\n",
    "plt.grid()\n",
    "plt.legend()"
   ]
  },
  {
   "cell_type": "code",
   "execution_count": null,
   "metadata": {
    "code_folding": []
   },
   "outputs": [],
   "source": [
    "from sqlalchemy.orm.exc import NoResultFound\n",
    "\n",
    "dicci = bz.get_data_per_sampling_date()\n",
    "for date_ in dicci:\n",
    "    for spectrum in dicci[date_]:\n",
    "        spec = bz.convert_be_to_sfg(spectrum)\n",
    "        if 0 <= spec.meta[\"time\"].hour < 8:\n",
    "                spec.meta[\"time\"] -= timedelta(days=1)\n",
    "        try:\n",
    "             print(f'before: {spec.normalized_intensity[0]}')\n",
    "             ref = bz.session.query(bz.measurement_days).filter(bz.measurement_days.date == spec.meta[\"time\"].date()).one().dppc_integral\n",
    "             spec.normalized_intensity = spec.normalize_to_highest(external_norm = ref)\n",
    "             spec.setup_spec()\n",
    "             print(f'after: {spec.normalized_intensity[0]}')\n",
    "            \n",
    "\n",
    "        \n",
    "        except NoResultFound:\n",
    "            print(f'{spec} has no DPPC reference')\n",
    "        \n",
    "        \n",
    "                \n",
    "                "
   ]
  },
  {
   "cell_type": "code",
   "execution_count": null,
   "metadata": {},
   "outputs": [],
   "source": []
  }
 ],
 "metadata": {
  "kernelspec": {
   "display_name": "Python 3",
   "language": "python",
   "name": "python3"
  },
  "language_info": {
   "codemirror_mode": {
    "name": "ipython",
    "version": 3
   },
   "file_extension": ".py",
   "mimetype": "text/x-python",
   "name": "python",
   "nbconvert_exporter": "python",
   "pygments_lexer": "ipython3",
   "version": "3.6.9"
  }
 },
 "nbformat": 4,
 "nbformat_minor": 2
}
