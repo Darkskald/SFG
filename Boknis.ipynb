{
 "cells": [
  {
   "cell_type": "code",
   "execution_count": 1,
   "metadata": {
    "code_folding": [
     15
    ]
   },
   "outputs": [],
   "source": [
    "from boknis_eck import BEDatabaseWizard\n",
    "from spectrum import SfgAverager, DummyPlotter \n",
    "\n",
    "from datetime import datetime, date, timedelta\n",
    "import os\n",
    "\n",
    "import numpy as np\n",
    "import pandas as pd\n",
    "import matplotlib.pyplot as plt\n",
    "from matplotlib import rcParams\n",
    "from matplotlib.dates import MonthLocator, DateFormatter\n",
    "from matplotlib.lines import Line2D\n",
    "\n",
    "%matplotlib qt\n",
    "plt.style.use(\"qt.mpltstyle\")\n",
    "\n",
    "bz = BEDatabaseWizard()\n",
    "\n"
   ]
  },
  {
   "cell_type": "code",
   "execution_count": 9,
   "metadata": {
    "code_folding": [
     8,
     34
    ]
   },
   "outputs": [
    {
     "name": "stderr",
     "output_type": "stream",
     "text": [
      "C:\\Users\\lange\\Desktop\\CharmingSFG\\SFG\\spectrum.py:97: RuntimeWarning: divide by zero encountered in true_divide\n",
      "  self.normalized_intensity = self.raw_intensity / (self.vis_intensity * self.ir_intensity)\n"
     ]
    },
    {
     "name": "stdout",
     "output_type": "stream",
     "text": [
      "10\n"
     ]
    }
   ],
   "source": [
    "dic = bz.get_be_spectra_monthwise(sample_type=\"bulk\")\n",
    "aug =SfgAverager(dic[6], enforce_scale=True)\n",
    "%matplotlib qt\n",
    "plt.style.use(\"qt.mpltstyle\")\n",
    "\n",
    "\n",
    "class Plotter:\n",
    "    \n",
    "    def __init__(self):\n",
    "        \n",
    "        # meta\n",
    "        self.path = os.path.abspath(\"..\\..\\ipy_plots\")\n",
    "        \n",
    "        # plotting context\n",
    "        self.figure = None\n",
    "        self.axes = None\n",
    "        self.title = \"No title\"\n",
    "        \n",
    "        # setup\n",
    "        self.provide_plot_context()\n",
    "        \n",
    "    def provide_plot_context(self):\n",
    "        self.figure = plt.figure()\n",
    "        self.axes = self.figure.add_subplot(1,1,1)\n",
    "    \n",
    "    def plot_averager(self, averager):\n",
    "        \n",
    "        self.plot_spec(averager.average_spectrum, color=\"red\")\n",
    "        self.axes.set_xlabel(averager.average_spectrum.x_unit)\n",
    "        self.axes.set_ylabel(averager.average_spectrum.y_unit)\n",
    "        \n",
    "        for spectrum in averager.spectra:\n",
    "            self.plot_spec(spectrum, alpha=0.3, marker=None)\n",
    "        \n",
    "        print(len(averager.spectra))\n",
    "    \n",
    "    def plot_spec(self, spec, marker=\"o\", alpha=1, color=\"default\"):\n",
    "        \n",
    "        if color == \"default\":\n",
    "            self.axes.plot(spec.x, spec.y, marker=marker, label=spec.name, alpha=alpha)\n",
    "        else:\n",
    "            self.axes.plot(spec.x, spec.y, marker=marker, label=spec.name, alpha=alpha, color=color)\n",
    "\n",
    "\n",
    "test = Plotter()\n",
    "test.plot_averager(aug)"
   ]
  },
  {
   "cell_type": "code",
   "execution_count": 20,
   "metadata": {
    "code_folding": [
     5
    ]
   },
   "outputs": [
    {
     "data": {
      "text/plain": [
       "[<orm.BoknisEck at 0x290127594e0>,\n",
       " <orm.BoknisEck at 0x29012759550>,\n",
       " <orm.BoknisEck at 0x290126ec4a8>,\n",
       " <orm.BoknisEck at 0x290126ec898>,\n",
       " <orm.BoknisEck at 0x290127ea7f0>,\n",
       " <orm.BoknisEck at 0x290127ea898>,\n",
       " <orm.BoknisEck at 0x29012811fd0>,\n",
       " <orm.BoknisEck at 0x290128180b8>,\n",
       " <orm.BoknisEck at 0x290128185f8>,\n",
       " <orm.BoknisEck at 0x290128186a0>]"
      ]
     },
     "execution_count": 20,
     "metadata": {},
     "output_type": "execute_result"
    }
   ],
   "source": [
    "p = bz.wz.session.query(bz.wz.boknis_eck).filter(bz.wz.boknis_eck.depth > 1).all()\n",
    "        \n",
    "[i for i in p if i.sampling_date.month == 6]"
   ]
  },
  {
   "cell_type": "code",
   "execution_count": null,
   "metadata": {},
   "outputs": [],
   "source": [
    "\n",
    "        \n",
    "        \n"
   ]
  }
 ],
 "metadata": {
  "kernelspec": {
   "display_name": "Python 3",
   "language": "python",
   "name": "python3"
  },
  "language_info": {
   "codemirror_mode": {
    "name": "ipython",
    "version": 3
   },
   "file_extension": ".py",
   "mimetype": "text/x-python",
   "name": "python",
   "nbconvert_exporter": "python",
   "pygments_lexer": "ipython3",
   "version": "3.6.9"
  }
 },
 "nbformat": 4,
 "nbformat_minor": 2
}
