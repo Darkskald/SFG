{
 "cells": [
  {
   "cell_type": "code",
   "execution_count": 1,
   "metadata": {
    "code_folding": [
     15,
     57
    ]
   },
   "outputs": [],
   "source": [
    "from boknis_eck import BEDatabaseWizard\n",
    "from spectrum import SfgAverager, DummyPlotter \n",
    "\n",
    "from datetime import datetime, date, timedelta\n",
    "import numpy as np\n",
    "import pandas as pd\n",
    "import matplotlib.pyplot as plt\n",
    "from matplotlib import rcParams\n",
    "from matplotlib.dates import MonthLocator, DateFormatter\n",
    "from matplotlib.lines import Line2D\n",
    "\n",
    "%matplotlib qt\n",
    "plt.style.use(\"qt.mpltstyle\")\n",
    "\n",
    "# plot functions\n",
    "def plot_by_time(dataframes, param, leg, scale=1):\n",
    "    fig, ax = plt.subplots()\n",
    "    ax2 = ax.twinx()\n",
    "\n",
    "    months = MonthLocator(range(1, 13), bymonthday=1, interval=6)\n",
    "    monthsFmt = DateFormatter(\"%b '%y\")\n",
    "   \n",
    "    for df in dataframes:\n",
    "        \n",
    "        ax.scatter(df[\"sampling_date\"], df[\"sml_\"+param]*scale, color=\"red\")\n",
    "        ax.scatter(df[\"sampling_date\"], df[\"bulk_\"+param]*scale, color=\"blue\", marker=\"^\")\n",
    "        ax2.scatter(df[\"sampling_date\"], df[\"chlorophyll\"], color=\"green\", marker=\"+\")\n",
    "\n",
    "        ax.plot(df[\"sampling_date\"], df[\"sml_\"+param]*scale, color=\"red\")\n",
    "        ax.plot(df[\"sampling_date\"], df[\"bulk_\"+param]*scale, color=\"blue\")\n",
    "        ax2.plot(df[\"sampling_date\"], df[\"chlorophyll\"], color=\"green\")\n",
    "\n",
    "\n",
    "    for i in range(8, 20, 1):\n",
    "            lower = date(2000+i, 3, 1)\n",
    "            upper = date(2000 + i, 9, 1)\n",
    "            ax.axvspan(lower, upper, color=\"gray\", alpha=0.4)\n",
    "\n",
    "    legend_elements = [Line2D([0], [0], marker='^', label='Bulk water',\n",
    "                              markerfacecolor='blue', mew=0.3,  mec=\"blue\", aa=True, linestyle=''),\n",
    "                               Line2D([0], [0], marker='o', label='Surface microlayer',\n",
    "                                       markerfacecolor='red', mew=0.3, mec=\"red\", aa=True, linestyle=''),\n",
    "                               Line2D([0], [0], marker='+', label='Chlorophyll a',\n",
    "                                       markerfacecolor='green', mew=2, mec=\"green\", aa=True, linestyle='', markersize=10)\n",
    "                                ]\n",
    "\n",
    "    ax.legend(handles=legend_elements)\n",
    "    ax.xaxis.set_major_locator(months)\n",
    "    ax.xaxis.set_major_formatter(monthsFmt)\n",
    "    ax.autoscale_view()\n",
    "    fig.autofmt_xdate()\n",
    "\n",
    "    ax.set_xlabel(\"time \")\n",
    "    ax.set_ylabel(leg)\n",
    "    ax2.set_ylabel(\"Chlorophyll a concentration/\\n µg/L\")\n",
    "    rcParams['xtick.labelsize'] = 'small'\n",
    "\n",
    "def plot_ratio_by_time(dataframes, params):\n",
    "    fig, ax = plt.subplots()\n",
    "    ax2 = ax.twinx()\n",
    "\n",
    "    months = MonthLocator(range(1, 13), bymonthday=1, interval=6)\n",
    "    monthsFmt = DateFormatter(\"%b '%y\")\n",
    "   \n",
    "    for df in dataframes:\n",
    "        \n",
    "        if params[1] == \"oh\":\n",
    "            sml_total_oh = df[\"sml_oh1\"]+df[\"sml_oh2\"]\n",
    "            bulk_total_oh = df[\"bulk_oh1\"]+df[\"bulk_oh2\"]     \n",
    "            sml_ratio = df[\"sml_\"+params[0]]/sml_total_oh\n",
    "            bulk_ratio = df[\"bulk_\"+params[0]]/bulk_total_oh\n",
    "            \n",
    "        else: \n",
    "            sml_ratio = df[\"sml_\"+params[0]]/df[\"sml_\"+params[1]]\n",
    "            bulk_ratio = df[\"bulk_\"+params[0]]/df[\"bulk_\"+params[1]]\n",
    "        \n",
    "        ax.scatter(df[\"sampling_date\"], sml_ratio, color=\"red\")\n",
    "        ax.scatter(df[\"sampling_date\"], bulk_ratio, color=\"blue\", marker=\"^\")\n",
    "        ax2.scatter(df[\"sampling_date\"], df[\"chlorophyll\"], color=\"green\", marker=\"+\")\n",
    "\n",
    "        #ax.plot(df[\"sampling_date\"], sml_ratio, color=\"red\")\n",
    "        #ax.plot(df[\"sampling_date\"], bulk_ratio, color=\"blue\")\n",
    "        #ax2.plot(df[\"sampling_date\"], df[\"chlorophyll\"], color=\"green\")\n",
    "\n",
    "\n",
    "    for i in range(8, 20, 1):\n",
    "            lower = date(2000+i, 3, 1)\n",
    "            upper = date(2000 + i, 9, 1)\n",
    "            ax.axvspan(lower, upper, color=\"gray\", alpha=0.4)\n",
    "\n",
    "    legend_elements = [Line2D([0], [0], marker='^', label='Bulk water',\n",
    "                              markerfacecolor='blue', mew=0.3,  mec=\"blue\", aa=True, linestyle=''),\n",
    "                               Line2D([0], [0], marker='o', label='Surface microlayer',\n",
    "                                       markerfacecolor='red', mew=0.3, mec=\"red\", aa=True, linestyle=''),\n",
    "                               Line2D([0], [0], marker='+', label='Chlorophyll a',\n",
    "                                       markerfacecolor='green', mew=2, mec=\"green\", aa=True, linestyle='', markersize=10)\n",
    "                                ]\n",
    "\n",
    "    ax.legend(handles=legend_elements)\n",
    "    ax.xaxis.set_major_locator(months)\n",
    "    ax.xaxis.set_major_formatter(monthsFmt)\n",
    "    ax.autoscale_view()\n",
    "    fig.autofmt_xdate()\n",
    "\n",
    "    ax.set_xlabel(\"time \")\n",
    "    ax.set_ylabel(f'{params[0]}/{params[1]} ratio')\n",
    "    ax2.set_ylabel(\"Chlorophyll a concentration/\\n µg/L\")\n",
    "    rcParams['xtick.labelsize'] = 'small'\n",
    "\n",
    "    plt.show()\n",
    "\n",
    "\n",
    "bz = BEDatabaseWizard()\n"
   ]
  },
  {
   "cell_type": "code",
   "execution_count": 2,
   "metadata": {},
   "outputs": [
    {
     "data": {
      "text/html": [
       "<div>\n",
       "<style scoped>\n",
       "    .dataframe tbody tr th:only-of-type {\n",
       "        vertical-align: middle;\n",
       "    }\n",
       "\n",
       "    .dataframe tbody tr th {\n",
       "        vertical-align: top;\n",
       "    }\n",
       "\n",
       "    .dataframe thead th {\n",
       "        text-align: right;\n",
       "    }\n",
       "</style>\n",
       "<table border=\"1\" class=\"dataframe\">\n",
       "  <thead>\n",
       "    <tr style=\"text-align: right;\">\n",
       "      <th></th>\n",
       "      <th>id</th>\n",
       "      <th>sampling_date</th>\n",
       "      <th>bulk_no</th>\n",
       "      <th>sml_no</th>\n",
       "      <th>sml_coverage</th>\n",
       "      <th>sml_ch</th>\n",
       "      <th>sml_oh1</th>\n",
       "      <th>sml_oh2</th>\n",
       "      <th>sml_dangling</th>\n",
       "      <th>bulk_coverage</th>\n",
       "      <th>bulk_ch</th>\n",
       "      <th>bulk_oh1</th>\n",
       "      <th>bulk_oh2</th>\n",
       "      <th>bulk_dangling</th>\n",
       "      <th>chlorophyll</th>\n",
       "    </tr>\n",
       "  </thead>\n",
       "  <tbody>\n",
       "    <tr>\n",
       "      <th>74</th>\n",
       "      <td>75</td>\n",
       "      <td>2018-03-05</td>\n",
       "      <td>3.0</td>\n",
       "      <td>6</td>\n",
       "      <td>0.280974</td>\n",
       "      <td>0.062303</td>\n",
       "      <td>0.0</td>\n",
       "      <td>0.0</td>\n",
       "      <td>0.000000</td>\n",
       "      <td>0.032193</td>\n",
       "      <td>0.013384</td>\n",
       "      <td>None</td>\n",
       "      <td>NaN</td>\n",
       "      <td>0.011060</td>\n",
       "      <td>NaN</td>\n",
       "    </tr>\n",
       "    <tr>\n",
       "      <th>75</th>\n",
       "      <td>76</td>\n",
       "      <td>2018-03-27</td>\n",
       "      <td>2.0</td>\n",
       "      <td>7</td>\n",
       "      <td>0.157280</td>\n",
       "      <td>0.021050</td>\n",
       "      <td>NaN</td>\n",
       "      <td>NaN</td>\n",
       "      <td>0.006456</td>\n",
       "      <td>0.150981</td>\n",
       "      <td>0.021908</td>\n",
       "      <td>None</td>\n",
       "      <td>NaN</td>\n",
       "      <td>0.002839</td>\n",
       "      <td>NaN</td>\n",
       "    </tr>\n",
       "    <tr>\n",
       "      <th>77</th>\n",
       "      <td>78</td>\n",
       "      <td>2018-08-01</td>\n",
       "      <td>1.0</td>\n",
       "      <td>5</td>\n",
       "      <td>0.000000</td>\n",
       "      <td>0.016367</td>\n",
       "      <td>NaN</td>\n",
       "      <td>NaN</td>\n",
       "      <td>0.009447</td>\n",
       "      <td>0.000000</td>\n",
       "      <td>0.018789</td>\n",
       "      <td>None</td>\n",
       "      <td>NaN</td>\n",
       "      <td>0.010213</td>\n",
       "      <td>NaN</td>\n",
       "    </tr>\n",
       "    <tr>\n",
       "      <th>78</th>\n",
       "      <td>79</td>\n",
       "      <td>2018-10-18</td>\n",
       "      <td>3.0</td>\n",
       "      <td>6</td>\n",
       "      <td>0.057841</td>\n",
       "      <td>0.028222</td>\n",
       "      <td>NaN</td>\n",
       "      <td>NaN</td>\n",
       "      <td>0.012689</td>\n",
       "      <td>0.052542</td>\n",
       "      <td>0.033364</td>\n",
       "      <td>None</td>\n",
       "      <td>NaN</td>\n",
       "      <td>0.014346</td>\n",
       "      <td>NaN</td>\n",
       "    </tr>\n",
       "    <tr>\n",
       "      <th>79</th>\n",
       "      <td>80</td>\n",
       "      <td>2018-12-13</td>\n",
       "      <td>3.0</td>\n",
       "      <td>6</td>\n",
       "      <td>0.084070</td>\n",
       "      <td>0.013385</td>\n",
       "      <td>NaN</td>\n",
       "      <td>NaN</td>\n",
       "      <td>0.015676</td>\n",
       "      <td>0.045382</td>\n",
       "      <td>0.014558</td>\n",
       "      <td>None</td>\n",
       "      <td>NaN</td>\n",
       "      <td>0.016473</td>\n",
       "      <td>NaN</td>\n",
       "    </tr>\n",
       "    <tr>\n",
       "      <th>80</th>\n",
       "      <td>81</td>\n",
       "      <td>2018-11-13</td>\n",
       "      <td>2.0</td>\n",
       "      <td>6</td>\n",
       "      <td>0.103374</td>\n",
       "      <td>0.012538</td>\n",
       "      <td>NaN</td>\n",
       "      <td>NaN</td>\n",
       "      <td>0.015786</td>\n",
       "      <td>0.083234</td>\n",
       "      <td>0.011701</td>\n",
       "      <td>None</td>\n",
       "      <td>NaN</td>\n",
       "      <td>0.016214</td>\n",
       "      <td>NaN</td>\n",
       "    </tr>\n",
       "    <tr>\n",
       "      <th>81</th>\n",
       "      <td>82</td>\n",
       "      <td>2018-06-21</td>\n",
       "      <td>1.0</td>\n",
       "      <td>1</td>\n",
       "      <td>0.053842</td>\n",
       "      <td>0.001160</td>\n",
       "      <td>NaN</td>\n",
       "      <td>NaN</td>\n",
       "      <td>0.015626</td>\n",
       "      <td>0.058601</td>\n",
       "      <td>0.001305</td>\n",
       "      <td>None</td>\n",
       "      <td>NaN</td>\n",
       "      <td>0.015320</td>\n",
       "      <td>NaN</td>\n",
       "    </tr>\n",
       "    <tr>\n",
       "      <th>82</th>\n",
       "      <td>83</td>\n",
       "      <td>2018-09-20</td>\n",
       "      <td>1.0</td>\n",
       "      <td>1</td>\n",
       "      <td>0.076673</td>\n",
       "      <td>0.004051</td>\n",
       "      <td>NaN</td>\n",
       "      <td>NaN</td>\n",
       "      <td>0.014008</td>\n",
       "      <td>0.000000</td>\n",
       "      <td>0.000000</td>\n",
       "      <td>None</td>\n",
       "      <td>NaN</td>\n",
       "      <td>0.013567</td>\n",
       "      <td>NaN</td>\n",
       "    </tr>\n",
       "  </tbody>\n",
       "</table>\n",
       "</div>"
      ],
      "text/plain": [
       "    id sampling_date  bulk_no  sml_no  sml_coverage    sml_ch  sml_oh1  \\\n",
       "74  75    2018-03-05      3.0       6      0.280974  0.062303      0.0   \n",
       "75  76    2018-03-27      2.0       7      0.157280  0.021050      NaN   \n",
       "77  78    2018-08-01      1.0       5      0.000000  0.016367      NaN   \n",
       "78  79    2018-10-18      3.0       6      0.057841  0.028222      NaN   \n",
       "79  80    2018-12-13      3.0       6      0.084070  0.013385      NaN   \n",
       "80  81    2018-11-13      2.0       6      0.103374  0.012538      NaN   \n",
       "81  82    2018-06-21      1.0       1      0.053842  0.001160      NaN   \n",
       "82  83    2018-09-20      1.0       1      0.076673  0.004051      NaN   \n",
       "\n",
       "    sml_oh2  sml_dangling  bulk_coverage   bulk_ch bulk_oh1  bulk_oh2  \\\n",
       "74      0.0      0.000000       0.032193  0.013384     None       NaN   \n",
       "75      NaN      0.006456       0.150981  0.021908     None       NaN   \n",
       "77      NaN      0.009447       0.000000  0.018789     None       NaN   \n",
       "78      NaN      0.012689       0.052542  0.033364     None       NaN   \n",
       "79      NaN      0.015676       0.045382  0.014558     None       NaN   \n",
       "80      NaN      0.015786       0.083234  0.011701     None       NaN   \n",
       "81      NaN      0.015626       0.058601  0.001305     None       NaN   \n",
       "82      NaN      0.014008       0.000000  0.000000     None       NaN   \n",
       "\n",
       "    bulk_dangling  chlorophyll  \n",
       "74       0.011060          NaN  \n",
       "75       0.002839          NaN  \n",
       "77       0.010213          NaN  \n",
       "78       0.014346          NaN  \n",
       "79       0.016473          NaN  \n",
       "80       0.016214          NaN  \n",
       "81       0.015320          NaN  \n",
       "82       0.013567          NaN  "
      ]
     },
     "execution_count": 2,
     "metadata": {},
     "output_type": "execute_result"
    }
   ],
   "source": [
    "bz.filter_year(2018)"
   ]
  },
  {
   "cell_type": "code",
   "execution_count": 2,
   "metadata": {
    "code_folding": [
     1,
     43
    ],
    "scrolled": true
   },
   "outputs": [
    {
     "name": "stderr",
     "output_type": "stream",
     "text": [
      "D:\\Anaconda\\lib\\site-packages\\pandas\\plotting\\_matplotlib\\converter.py:102: FutureWarning: Using an implicitly registered datetime converter for a matplotlib plotting method. The converter was registered by pandas on import. Future versions of pandas will require you to explicitly register matplotlib converters.\n",
      "\n",
      "To register the converters:\n",
      "\t>>> from pandas.plotting import register_matplotlib_converters\n",
      "\t>>> register_matplotlib_converters()\n",
      "  warnings.warn(msg, FutureWarning)\n"
     ]
    }
   ],
   "source": []
  },
  {
   "cell_type": "code",
   "execution_count": 4,
   "metadata": {},
   "outputs": [],
   "source": [
    "# Testcode section\n",
    "from orm import WorkDatabaseWizard\n",
    "from spectrum import DummyPlotter\n",
    "\n",
    "import matplotlib.pyplot as plt\n",
    "%matplotlib qt\n",
    "plt.style.use(\"jupno.mplstyle\")\n",
    "\n",
    "wz = WorkDatabaseWizard()\n",
    "\n",
    "test = get_spectrum_by_property(wz, \"surfactant\", \"BX12\")\n",
    "\n",
    "DummyPlotter(test[0:12]).plot_all()"
   ]
  },
  {
   "cell_type": "code",
   "execution_count": 5,
   "metadata": {},
   "outputs": [
    {
     "name": "stderr",
     "output_type": "stream",
     "text": [
      "C:\\Users\\lange\\Desktop\\CharmingSFG\\SFG\\spectrum.py:91: RuntimeWarning: divide by zero encountered in true_divide\n",
      "  self.normalized_intensity = self.raw_intensity / (self.vis_intensity * self.ir_intensity)\n",
      "C:\\Users\\lange\\Desktop\\CharmingSFG\\SFG\\spectrum.py:91: RuntimeWarning: invalid value encountered in true_divide\n",
      "  self.normalized_intensity = self.raw_intensity / (self.vis_intensity * self.ir_intensity)\n"
     ]
    }
   ],
   "source": [
    "a = get_be_spectra_monthwise(wz)"
   ]
  },
  {
   "cell_type": "code",
   "execution_count": 6,
   "metadata": {
    "code_folding": [
     1,
     4
    ]
   },
   "outputs": [
    {
     "name": "stderr",
     "output_type": "stream",
     "text": [
      "D:\\Anaconda\\lib\\site-packages\\numpy\\lib\\nanfunctions.py:1503: RuntimeWarning: invalid value encountered in subtract\n",
      "  np.subtract(arr, avg, out=arr, casting='unsafe')\n",
      "D:\\Anaconda\\lib\\site-packages\\numpy\\core\\_methods.py:75: RuntimeWarning: invalid value encountered in reduce\n",
      "  ret = umr_sum(arr, axis, dtype, out, keepdims)\n"
     ]
    }
   ],
   "source": [
    "avg_dic = {}\n",
    "for key in a:\n",
    "   avg = SfgAverager(a[key], enforce_scale=True)\n",
    "   avg_dic[key] = avg.average_spectrum\n",
    "for key in avg_dic:\n",
    "        if key != 12:\n",
    "            plt.plot(avg_dic[key].x, avg_dic[key].y, label=key, marker='^')\n",
    "\n",
    "plt.legend()\n",
    "\n",
    "plt.show()"
   ]
  },
  {
   "cell_type": "code",
   "execution_count": 3,
   "metadata": {
    "code_folding": [
     0
    ]
   },
   "outputs": [
    {
     "name": "stdout",
     "output_type": "stream",
     "text": [
      "[2750 2755 2760 2765 2770 2775 2780 2785 2790 2795 2800 2805 2810 2815\n",
      " 2820 2825 2830 2835 2840 2845 2850 2855 2860 2865 2870 2875 2880 2885\n",
      " 2890 2895 2900 2905 2910 2915 2920 2925 2930 2935 2940 2945 2950 2955\n",
      " 2960 2965 2970 2975 2980 2985 2990 2995 3000 3005 3010 3015 3020 3025\n",
      " 3030 3035 3040 3045 3050 3050 3070 3090 3110 3130 3150 3170 3190 3210\n",
      " 3230 3250 3270 3290 3310 3330 3350 3370 3390 3410 3430 3450 3470 3490\n",
      " 3510 3530 3550 3570 3590 3610 3630 3650 3650 3655 3660 3665 3670 3675\n",
      " 3680 3685 3690 3695 3700 3705 3710 3715 3720 3725 3730 3735 3740 3745\n",
      " 3750 3755 3760 3765 3770 3775 3780 3785 3790 3795 3800 3805 3810 3815\n",
      " 3820 3825 3830 3835 3840]\n"
     ]
    }
   ],
   "source": [
    "def enforce_base():\n",
    "    reg1 = np.arange(2750, 3055, 5)\n",
    "    reg2 = np.arange(3050, 3670, 20)\n",
    "    reg3 = np.arange(3650, 3845, 5)\n",
    "    new = np.concatenate((reg1, reg2, reg3), axis=None)\n",
    "    return new\n",
    "\n",
    "print(enforce_base())\n",
    "\n",
    "xroot= enforce_base()\n",
    "ax = [2750, 2755, 2780, 3050]\n",
    "ay = [5, 15, 16.7, 3]\n",
    "\n",
    "bx = [2750, 2755, 2780, 3050, 3070, 3500, 3600, 3650, 3700, 3820]\n",
    "by= [27, 4, 15, 76, 34, 12, 5, 3, 3, 10]\n",
    "\n",
    "ax_new = np.interp(xroot, ax, ay)\n",
    "mask = (xroot > np.max(ax)) | (xroot < np.min(ax))\n",
    "ax_new[mask] = np.nan\n",
    "\n",
    "from scipy import integrate\n",
    "\n",
    "q = integrate.simps(ax_new, xroot)\n",
    "q\n"
   ]
  },
  {
   "cell_type": "code",
   "execution_count": 4,
   "metadata": {},
   "outputs": [
    {
     "name": "stderr",
     "output_type": "stream",
     "text": [
      "D:\\Anaconda\\lib\\site-packages\\scipy\\integrate\\quadrature.py:376: RuntimeWarning: divide by zero encountered in true_divide\n",
      "  h0divh1 = h0 / h1\n",
      "D:\\Anaconda\\lib\\site-packages\\scipy\\integrate\\quadrature.py:378: RuntimeWarning: divide by zero encountered in true_divide\n",
      "  y[slice1]*hsum*hsum/hprod +\n",
      "D:\\Anaconda\\lib\\site-packages\\scipy\\integrate\\quadrature.py:378: RuntimeWarning: invalid value encountered in add\n",
      "  y[slice1]*hsum*hsum/hprod +\n"
     ]
    },
    {
     "data": {
      "text/plain": [
       "nan"
      ]
     },
     "execution_count": 4,
     "metadata": {},
     "output_type": "execute_result"
    }
   ],
   "source": []
  },
  {
   "cell_type": "code",
   "execution_count": 4,
   "metadata": {},
   "outputs": [
    {
     "name": "stdout",
     "output_type": "stream",
     "text": [
      "0.076163025\n"
     ]
    }
   ],
   "source": [
    "import numpy as np\n",
    "import matplotlib.pyplot as plt\n",
    "from scipy.integrate import simps as sp\n",
    "from scipy.integrate import trapz as sp\n",
    "\n",
    "\n",
    "x= [3005, 3010, 3015, 3020, 3025, 3030, 3035, 3040, 3045, 3050, 3050, 3070, 3090, 3110, 3130, 3150, 3170, 3190, 3210, 3230, 3250, 3270, 3290, 3310, 3330, 3350]\n",
    "y= [0.0001556, 0.0001771, 0.00017038, 0.00016676, 0.00017883, 0.00015801, 0.0001725,  0.00018268, 0.00019829, 0.00017083, 0.00017083, 0.00018625, 0.00017146, 0.00019095, 0.00017107, 0.00021096, 0.00023474, 0.00035913, 0.00033207, 0.00036671, 0.00025562, 0.00021671, 0.00021296, 0.00017954, 0.00015827, 0.00016871]\n",
    "\n",
    "print(sp(y, x))"
   ]
  },
  {
   "cell_type": "code",
   "execution_count": 5,
   "metadata": {},
   "outputs": [
    {
     "ename": "NameError",
     "evalue": "name 'plt' is not defined",
     "output_type": "error",
     "traceback": [
      "\u001b[1;31m---------------------------------------------------------------------------\u001b[0m",
      "\u001b[1;31mNameError\u001b[0m                                 Traceback (most recent call last)",
      "\u001b[1;32m<ipython-input-5-84e30b7dc0a8>\u001b[0m in \u001b[0;36m<module>\u001b[1;34m\u001b[0m\n\u001b[0;32m      2\u001b[0m \u001b[0my\u001b[0m\u001b[1;33m=\u001b[0m \u001b[1;33m[\u001b[0m\u001b[1;36m0.0001556\u001b[0m\u001b[1;33m,\u001b[0m \u001b[1;36m0.0001771\u001b[0m\u001b[1;33m,\u001b[0m \u001b[1;36m0.00017038\u001b[0m\u001b[1;33m,\u001b[0m \u001b[1;36m0.00016676\u001b[0m\u001b[1;33m,\u001b[0m \u001b[1;36m0.00017883\u001b[0m\u001b[1;33m,\u001b[0m \u001b[1;36m0.00015801\u001b[0m\u001b[1;33m,\u001b[0m \u001b[1;36m0.0001725\u001b[0m\u001b[1;33m,\u001b[0m  \u001b[1;36m0.00018268\u001b[0m\u001b[1;33m,\u001b[0m \u001b[1;36m0.00019829\u001b[0m\u001b[1;33m,\u001b[0m \u001b[1;36m0.00017083\u001b[0m\u001b[1;33m,\u001b[0m \u001b[1;36m0.00017083\u001b[0m\u001b[1;33m,\u001b[0m \u001b[1;36m0.00018625\u001b[0m\u001b[1;33m,\u001b[0m \u001b[1;36m0.00017146\u001b[0m\u001b[1;33m,\u001b[0m \u001b[1;36m0.00019095\u001b[0m\u001b[1;33m,\u001b[0m \u001b[1;36m0.00017107\u001b[0m\u001b[1;33m,\u001b[0m \u001b[1;36m0.00021096\u001b[0m\u001b[1;33m,\u001b[0m \u001b[1;36m0.00023474\u001b[0m\u001b[1;33m,\u001b[0m \u001b[1;36m0.00035913\u001b[0m\u001b[1;33m,\u001b[0m \u001b[1;36m0.00033207\u001b[0m\u001b[1;33m,\u001b[0m \u001b[1;36m0.00036671\u001b[0m\u001b[1;33m,\u001b[0m \u001b[1;36m0.00025562\u001b[0m\u001b[1;33m,\u001b[0m \u001b[1;36m0.00021671\u001b[0m\u001b[1;33m,\u001b[0m \u001b[1;36m0.00021296\u001b[0m\u001b[1;33m,\u001b[0m \u001b[1;36m0.00017954\u001b[0m\u001b[1;33m,\u001b[0m \u001b[1;36m0.00015827\u001b[0m\u001b[1;33m,\u001b[0m \u001b[1;36m0.00016871\u001b[0m\u001b[1;33m]\u001b[0m\u001b[1;33m\u001b[0m\u001b[1;33m\u001b[0m\u001b[0m\n\u001b[0;32m      3\u001b[0m \u001b[1;33m\u001b[0m\u001b[0m\n\u001b[1;32m----> 4\u001b[1;33m \u001b[0mplt\u001b[0m\u001b[1;33m.\u001b[0m\u001b[0mplot\u001b[0m\u001b[1;33m(\u001b[0m\u001b[0mx\u001b[0m\u001b[1;33m,\u001b[0m\u001b[0my\u001b[0m\u001b[1;33m)\u001b[0m\u001b[1;33m\u001b[0m\u001b[1;33m\u001b[0m\u001b[0m\n\u001b[0m",
      "\u001b[1;31mNameError\u001b[0m: name 'plt' is not defined"
     ]
    }
   ],
   "source": [
    "\n"
   ]
  }
 ],
 "metadata": {
  "kernelspec": {
   "display_name": "Python 3",
   "language": "python",
   "name": "python3"
  },
  "language_info": {
   "codemirror_mode": {
    "name": "ipython",
    "version": 3
   },
   "file_extension": ".py",
   "mimetype": "text/x-python",
   "name": "python",
   "nbconvert_exporter": "python",
   "pygments_lexer": "ipython3",
   "version": "3.6.9"
  }
 },
 "nbformat": 4,
 "nbformat_minor": 2
}
