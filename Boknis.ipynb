{
 "cells": [
  {
   "cell_type": "code",
   "execution_count": 4,
   "metadata": {
    "code_folding": [
     15
    ]
   },
   "outputs": [
    {
     "name": "stderr",
     "output_type": "stream",
     "text": [
      "/home/flo/PycharmProjects/SFG/spectrum.py:97: RuntimeWarning: divide by zero encountered in true_divide\n",
      "  self.normalized_intensity = self.raw_intensity / (self.vis_intensity * self.ir_intensity)\n",
      "/home/flo/PycharmProjects/SFG/spectrum.py:97: RuntimeWarning: invalid value encountered in true_divide\n",
      "  self.normalized_intensity = self.raw_intensity / (self.vis_intensity * self.ir_intensity)\n"
     ]
    },
    {
     "ename": "IndexError",
     "evalue": "list index out of range",
     "output_type": "error",
     "traceback": [
      "\u001b[0;31m---------------------------------------------------------------------------\u001b[0m",
      "\u001b[0;31mIndexError\u001b[0m                                Traceback (most recent call last)",
      "\u001b[0;32m<ipython-input-4-78818b3eeea4>\u001b[0m in \u001b[0;36m<module>\u001b[0;34m\u001b[0m\n\u001b[1;32m     19\u001b[0m \u001b[0mbz\u001b[0m \u001b[0;34m=\u001b[0m \u001b[0mBEDatabaseWizard\u001b[0m\u001b[0;34m(\u001b[0m\u001b[0;34m)\u001b[0m\u001b[0;34m\u001b[0m\u001b[0;34m\u001b[0m\u001b[0m\n\u001b[1;32m     20\u001b[0m \u001b[0mp\u001b[0m \u001b[0;34m=\u001b[0m \u001b[0mPlotter\u001b[0m\u001b[0;34m(\u001b[0m\u001b[0;34m)\u001b[0m\u001b[0;34m\u001b[0m\u001b[0;34m\u001b[0m\u001b[0m\n\u001b[0;32m---> 21\u001b[0;31m \u001b[0mbz\u001b[0m\u001b[0;34m.\u001b[0m\u001b[0mplot_by_sampling_date\u001b[0m\u001b[0;34m(\u001b[0m\u001b[0;34m)\u001b[0m\u001b[0;34m\u001b[0m\u001b[0;34m\u001b[0m\u001b[0m\n\u001b[0m\u001b[1;32m     22\u001b[0m \u001b[0;31m#bz.plot_all_raw_be()\u001b[0m\u001b[0;34m\u001b[0m\u001b[0;34m\u001b[0m\u001b[0;34m\u001b[0m\u001b[0m\n",
      "\u001b[0;32m~/PycharmProjects/SFG/boknis_eck.py\u001b[0m in \u001b[0;36mplot_by_sampling_date\u001b[0;34m(self)\u001b[0m\n\u001b[1;32m    698\u001b[0m \u001b[0;34m\u001b[0m\u001b[0m\n\u001b[1;32m    699\u001b[0m         \u001b[0;32mfor\u001b[0m \u001b[0mitem\u001b[0m \u001b[0;32min\u001b[0m \u001b[0mdates\u001b[0m\u001b[0;34m:\u001b[0m\u001b[0;34m\u001b[0m\u001b[0;34m\u001b[0m\u001b[0m\n\u001b[0;32m--> 700\u001b[0;31m             \u001b[0mP\u001b[0m \u001b[0;34m=\u001b[0m \u001b[0mPlotter\u001b[0m\u001b[0;34m(\u001b[0m\u001b[0;34m)\u001b[0m\u001b[0;34m\u001b[0m\u001b[0;34m\u001b[0m\u001b[0m\n\u001b[0m\u001b[1;32m    701\u001b[0m             \u001b[0mP\u001b[0m\u001b[0;34m.\u001b[0m\u001b[0mplot_sfg_list\u001b[0m\u001b[0;34m(\u001b[0m\u001b[0mdates\u001b[0m\u001b[0;34m[\u001b[0m\u001b[0mitem\u001b[0m\u001b[0;34m]\u001b[0m\u001b[0;34m,\u001b[0m \u001b[0mtitle\u001b[0m\u001b[0;34m=\u001b[0m\u001b[0mstr\u001b[0m\u001b[0;34m(\u001b[0m\u001b[0mitem\u001b[0m\u001b[0;34m)\u001b[0m\u001b[0;34m,\u001b[0m \u001b[0msave\u001b[0m\u001b[0;34m=\u001b[0m\u001b[0;32mTrue\u001b[0m\u001b[0;34m)\u001b[0m\u001b[0;34m\u001b[0m\u001b[0;34m\u001b[0m\u001b[0m\n\u001b[1;32m    702\u001b[0m \u001b[0;34m\u001b[0m\u001b[0m\n",
      "\u001b[0;32m~/PycharmProjects/SFG/boknis_eck.py\u001b[0m in \u001b[0;36mplot_sfg_list\u001b[0;34m(self, speclist, title, save)\u001b[0m\n\u001b[1;32m    453\u001b[0m         \u001b[0mplt\u001b[0m\u001b[0;34m.\u001b[0m\u001b[0mstyle\u001b[0m\u001b[0;34m.\u001b[0m\u001b[0muse\u001b[0m\u001b[0;34m(\u001b[0m\u001b[0;34m\"output.mplstyle\"\u001b[0m\u001b[0;34m)\u001b[0m\u001b[0;34m\u001b[0m\u001b[0;34m\u001b[0m\u001b[0m\n\u001b[1;32m    454\u001b[0m         \u001b[0max\u001b[0m \u001b[0;34m=\u001b[0m \u001b[0mself\u001b[0m\u001b[0;34m.\u001b[0m\u001b[0mfig\u001b[0m\u001b[0;34m.\u001b[0m\u001b[0madd_subplot\u001b[0m\u001b[0;34m(\u001b[0m\u001b[0;36m1\u001b[0m\u001b[0;34m,\u001b[0m \u001b[0;36m1\u001b[0m\u001b[0;34m,\u001b[0m \u001b[0;36m1\u001b[0m\u001b[0;34m)\u001b[0m\u001b[0;34m\u001b[0m\u001b[0;34m\u001b[0m\u001b[0m\n\u001b[0;32m--> 455\u001b[0;31m         \u001b[0max\u001b[0m\u001b[0;34m.\u001b[0m\u001b[0mset_xlabel\u001b[0m\u001b[0;34m(\u001b[0m\u001b[0mspeclist\u001b[0m\u001b[0;34m[\u001b[0m\u001b[0;36m0\u001b[0m\u001b[0;34m]\u001b[0m\u001b[0;34m.\u001b[0m\u001b[0mx_unit\u001b[0m\u001b[0;34m)\u001b[0m\u001b[0;34m\u001b[0m\u001b[0;34m\u001b[0m\u001b[0m\n\u001b[0m\u001b[1;32m    456\u001b[0m         \u001b[0max\u001b[0m\u001b[0;34m.\u001b[0m\u001b[0mset_ylabel\u001b[0m\u001b[0;34m(\u001b[0m\u001b[0mspeclist\u001b[0m\u001b[0;34m[\u001b[0m\u001b[0;36m0\u001b[0m\u001b[0;34m]\u001b[0m\u001b[0;34m.\u001b[0m\u001b[0my_unit\u001b[0m\u001b[0;34m)\u001b[0m\u001b[0;34m\u001b[0m\u001b[0;34m\u001b[0m\u001b[0m\n\u001b[1;32m    457\u001b[0m \u001b[0;34m\u001b[0m\u001b[0m\n",
      "\u001b[0;31mIndexError\u001b[0m: list index out of range"
     ]
    }
   ],
   "source": [
    "from boknis_eck import BEDatabaseWizard, Plotter\n",
    "from spectrum import SfgAverager, DummyPlotter \n",
    "\n",
    "from datetime import datetime, date, timedelta\n",
    "import numpy as np\n",
    "import pandas as pd\n",
    "import matplotlib.pyplot as plt\n",
    "from matplotlib import rcParams\n",
    "from matplotlib.dates import MonthLocator, DateFormatter\n",
    "from matplotlib.lines import Line2D\n",
    "import matplotlib.ticker as ticker\n",
    "\n",
    "from sqlalchemy import extract\n",
    "\n",
    "# plot functions\n",
    "\n",
    "\n",
    "\n",
    "bz = BEDatabaseWizard()\n",
    "p = Plotter()\n",
    "bz.plot_by_sampling_date()\n",
    "#bz.plot_all_raw_be()"
   ]
  },
  {
   "cell_type": "code",
   "execution_count": 3,
   "metadata": {},
   "outputs": [
    {
     "name": "stdout",
     "output_type": "stream",
     "text": [
      "debug: refine is sml\n",
      "debug: refine is sml\n",
      "debug: refine is sml\n",
      "debug: refine is sml\n",
      "debug: refine is sml\n",
      "debug: refine is sml\n",
      "debug: refine is sml\n",
      "debug: refine is sml\n",
      "debug: refine is sml\n",
      "debug: refine is sml\n",
      "debug: refine is sml\n",
      "debug: refine is sml\n"
     ]
    },
    {
     "name": "stderr",
     "output_type": "stream",
     "text": [
      "/home/flo/PycharmProjects/SFG/spectrum.py:97: RuntimeWarning: divide by zero encountered in true_divide\n",
      "  self.normalized_intensity = self.raw_intensity / (self.vis_intensity * self.ir_intensity)\n",
      "/home/flo/anaconda3/lib/python3.7/site-packages/numpy/lib/nanfunctions.py:1503: RuntimeWarning: invalid value encountered in subtract\n",
      "  np.subtract(arr, avg, out=arr, casting='unsafe')\n"
     ]
    }
   ],
   "source": [
    "%matplotlib qt\n",
    "\n",
    "\n",
    "test = bz.fetch_by_quartal(refine=\"sml\")\n",
    "blubb = [bz.convert_be_to_sfg(i) for i in test[\"q4\"]]\n",
    "av = SfgAverager(blubb, enforce_scale=True)\n",
    "\n",
    "Plotter().plot_sfg_averager(av)\n",
    "\n"
   ]
  },
  {
   "cell_type": "code",
   "execution_count": null,
   "metadata": {},
   "outputs": [],
   "source": [
    "%matplotlib qt\n",
    "plt.style.use(\"qt.mpltstyle\")\n",
    "\n",
    "test = bz.fetch_by_quartal(refine=\"sml\")\n",
    "\n",
    "blubb = [bz.convert_be_to_sfg(i) for i in test[\"q1\"]]\n",
    "av = SfgAverager(blubb, enforce_scale=True)\n",
    "length = len(av.spectra)\n",
    "plt.plot(av.average_spectrum.x, av.average_spectrum.y, marker=\"s\", label=f'q1 ({length} spectra)')\n",
    "\n",
    "blubb = [bz.convert_be_to_sfg(i) for i in test[\"q2\"]]\n",
    "av = SfgAverager(blubb, enforce_scale=True)\n",
    "length = len(av.spectra)\n",
    "plt.plot(av.average_spectrum.x, av.average_spectrum.y, marker=\"s\", label=f'q2 ({length} spectra)')\n",
    "\n",
    "blubb = [bz.convert_be_to_sfg(i) for i in test[\"q3\"]]\n",
    "av = SfgAverager(blubb, enforce_scale=True)\n",
    "length = len(av.spectra)\n",
    "plt.plot(av.average_spectrum.x, av.average_spectrum.y, marker=\"s\", label=f'q3 ({length} spectra)')\n",
    "\n",
    "blubb = [bz.convert_be_to_sfg(i) for i in test[\"q4\"]]\n",
    "av = SfgAverager(blubb, enforce_scale=True)\n",
    "length = len(av.spectra)\n",
    "plt.plot(av.average_spectrum.x, av.average_spectrum.y, marker=\"s\", label=f'q4 ({length} spectra)')\n",
    "\n",
    "plt.legend()"
   ]
  },
  {
   "cell_type": "code",
   "execution_count": null,
   "metadata": {
    "code_folding": []
   },
   "outputs": [],
   "source": []
  },
  {
   "cell_type": "code",
   "execution_count": null,
   "metadata": {},
   "outputs": [],
   "source": []
  }
 ],
 "metadata": {
  "kernelspec": {
   "display_name": "Python 3",
   "language": "python",
   "name": "python3"
  },
  "language_info": {
   "codemirror_mode": {
    "name": "ipython",
    "version": 3
   },
   "file_extension": ".py",
   "mimetype": "text/x-python",
   "name": "python",
   "nbconvert_exporter": "python",
   "pygments_lexer": "ipython3",
   "version": "3.7.3"
  }
 },
 "nbformat": 4,
 "nbformat_minor": 2
}
