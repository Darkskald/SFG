{
 "cells": [
  {
   "cell_type": "code",
   "execution_count": 1,
   "metadata": {
    "code_folding": [
     15
    ]
   },
   "outputs": [
    {
     "name": "stderr",
     "output_type": "stream",
     "text": [
      "C:\\Users\\lange\\Desktop\\CharmingSFG\\SFG\\spectrum.py:97: RuntimeWarning: divide by zero encountered in true_divide\n",
      "  self.normalized_intensity = self.raw_intensity / (self.vis_intensity * self.ir_intensity)\n",
      "C:\\Users\\lange\\Desktop\\CharmingSFG\\SFG\\spectrum.py:97: RuntimeWarning: invalid value encountered in true_divide\n",
      "  self.normalized_intensity = self.raw_intensity / (self.vis_intensity * self.ir_intensity)\n"
     ]
    },
    {
     "ename": "AttributeError",
     "evalue": "'BEDatabaseWizard' object has no attribute 'plot_all_raw_bell'",
     "output_type": "error",
     "traceback": [
      "\u001b[1;31m---------------------------------------------------------------------------\u001b[0m",
      "\u001b[1;31mAttributeError\u001b[0m                            Traceback (most recent call last)",
      "\u001b[1;32m<ipython-input-1-0f79343e8ca6>\u001b[0m in \u001b[0;36m<module>\u001b[1;34m\u001b[0m\n\u001b[0;32m     22\u001b[0m \u001b[0mtest\u001b[0m \u001b[1;33m=\u001b[0m \u001b[0mbz\u001b[0m\u001b[1;33m.\u001b[0m\u001b[0mget_be_spectra_monthwise\u001b[0m\u001b[1;33m(\u001b[0m\u001b[1;33m)\u001b[0m\u001b[1;33m[\u001b[0m\u001b[1;36m1\u001b[0m\u001b[1;33m]\u001b[0m\u001b[1;33m[\u001b[0m\u001b[1;36m24\u001b[0m\u001b[1;33m]\u001b[0m\u001b[1;33m\u001b[0m\u001b[1;33m\u001b[0m\u001b[0m\n\u001b[0;32m     23\u001b[0m \u001b[1;33m\u001b[0m\u001b[0m\n\u001b[1;32m---> 24\u001b[1;33m \u001b[0mbz\u001b[0m\u001b[1;33m.\u001b[0m\u001b[0mplot_all_raw_bell\u001b[0m\u001b[1;33m(\u001b[0m\u001b[1;33m)\u001b[0m\u001b[1;33m\u001b[0m\u001b[1;33m\u001b[0m\u001b[0m\n\u001b[0m",
      "\u001b[1;31mAttributeError\u001b[0m: 'BEDatabaseWizard' object has no attribute 'plot_all_raw_bell'"
     ]
    }
   ],
   "source": [
    "from boknis_eck import BEDatabaseWizard, Plotter\n",
    "from spectrum import SfgAverager, DummyPlotter \n",
    "\n",
    "from datetime import datetime, date, timedelta\n",
    "import numpy as np\n",
    "import pandas as pd\n",
    "import matplotlib.pyplot as plt\n",
    "from matplotlib import rcParams\n",
    "from matplotlib.dates import MonthLocator, DateFormatter\n",
    "from matplotlib.lines import Line2D\n",
    "import matplotlib.ticker as ticker\n",
    "\n",
    "from sqlalchemy import extract\n",
    "\n",
    "# plot functions\n",
    "%matplotlib qt\n",
    "\n",
    "\n",
    "bz = BEDatabaseWizard()\n",
    "p = Plotter()\n",
    "\n",
    "test = bz.get_be_spectra_monthwise()[1][24]\n",
    "\n",
    "bz.plot_all_raw_bell()"
   ]
  },
  {
   "cell_type": "code",
   "execution_count": null,
   "metadata": {},
   "outputs": [],
   "source": [
    "%matplotlib qt\n",
    "plt.style.use(\"qt.mpltstyle\")\n",
    "\n",
    "test = bz.fetch_by_quartal(refine=\"sml\")\n",
    "\n",
    "blubb = [bz.convert_be_to_sfg(i) for i in test[\"q1\"]]\n",
    "av = SfgAverager(blubb, enforce_scale=True)\n",
    "length = len(av.spectra)\n",
    "plt.plot(av.average_spectrum.x, av.average_spectrum.y, marker=\"s\", label=f'q1 ({length} spectra)')\n",
    "\n",
    "blubb = [bz.convert_be_to_sfg(i) for i in test[\"q2\"]]\n",
    "av = SfgAverager(blubb, enforce_scale=True)\n",
    "length = len(av.spectra)\n",
    "plt.plot(av.average_spectrum.x, av.average_spectrum.y, marker=\"s\", label=f'q2 ({length} spectra)')\n",
    "\n",
    "blubb = [bz.convert_be_to_sfg(i) for i in test[\"q3\"]]\n",
    "av = SfgAverager(blubb, enforce_scale=True)\n",
    "length = len(av.spectra)\n",
    "plt.plot(av.average_spectrum.x, av.average_spectrum.y, marker=\"s\", label=f'q3 ({length} spectra)')\n",
    "\n",
    "blubb = [bz.convert_be_to_sfg(i) for i in test[\"q4\"]]\n",
    "av = SfgAverager(blubb, enforce_scale=True)\n",
    "length = len(av.spectra)\n",
    "plt.plot(av.average_spectrum.x, av.average_spectrum.y, marker=\"s\", label=f'q4 ({length} spectra)')\n",
    "\n",
    "plt.legend()"
   ]
  },
  {
   "cell_type": "code",
   "execution_count": null,
   "metadata": {
    "code_folding": []
   },
   "outputs": [],
   "source": []
  },
  {
   "cell_type": "code",
   "execution_count": null,
   "metadata": {},
   "outputs": [],
   "source": []
  }
 ],
 "metadata": {
  "kernelspec": {
   "display_name": "Python 3",
   "language": "python",
   "name": "python3"
  },
  "language_info": {
   "codemirror_mode": {
    "name": "ipython",
    "version": 3
   },
   "file_extension": ".py",
   "mimetype": "text/x-python",
   "name": "python",
   "nbconvert_exporter": "python",
   "pygments_lexer": "ipython3",
   "version": "3.6.9"
  }
 },
 "nbformat": 4,
 "nbformat_minor": 2
}
