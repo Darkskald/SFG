{
 "cells": [
  {
   "cell_type": "code",
   "execution_count": 1,
   "metadata": {},
   "outputs": [],
   "source": [
    "from spectrum import SfgAverager\n",
    "from orm import WorkDatabaseWizard\n",
    "from sqlalchemy.orm.exc import NoResultFound\n",
    "\n",
    "wz = WorkDatabaseWizard()\n",
    "\n",
    "sml = wz.session.query(wz.samples).filter(wz.samples.type.in_((\"s\", \"p\")))\n",
    "deep = wz.session.query(wz.samples).filter(wz.samples.type == \"deep\")\n",
    "\n",
    "sml_june = sml.filter(wz.samples.sample_hash.like('06%'))\n",
    "sml_september = sml.filter(wz.samples.sample_hash.like('09%'))\n",
    "\n",
    "deep_june = deep.filter(wz.samples.sample_hash.like('06%'))\n",
    "deep_september = deep.filter(wz.samples.sample_hash.like('09%'))\n",
    "\n",
    "def get_gasex_average_spectrum(wz, query):\n",
    "    \n",
    "    samples = query.all()\n",
    "    specs = wz.session.query(wz.gasex_sfg)\n",
    "    to_average = []\n",
    "    for sample in samples:\n",
    "        try:\n",
    "            spec = wz.session.query(wz.gasex_sfg).filter(wz.gasex_sfg.sample_hash == sample.sample_hash).one()\n",
    "            spec_raw = wz.session.query(wz.sfg).filter(wz.sfg.name == spec.name).one()\n",
    "            spec = wz.construct_sfg(spec_raw)\n",
    "            to_average.append(spec)\n",
    "        except NoResultFound:\n",
    "            pass\n",
    "    # requiere DPPC references!\n",
    "    \n",
    "    \n",
    "    \n",
    "get_average_spectrum(wz, sml_june)      "
   ]
  },
  {
   "cell_type": "code",
   "execution_count": null,
   "metadata": {},
   "outputs": [],
   "source": [
    "wz.session.query"
   ]
  },
  {
   "cell_type": "code",
   "execution_count": 3,
   "metadata": {
    "code_folding": [
     6,
     23
    ]
   },
   "outputs": [
    {
     "name": "stdout",
     "output_type": "stream",
     "text": [
      "0.3761730704028462\n",
      "0.21056810431674822\n",
      "0.5126991466660782\n",
      "0.38187333270529833\n",
      "0.33891177108448783\n",
      "0.32124991117600005\n",
      "0.3935388488704654\n",
      "0.28544983809875496\n",
      "0.36793703944665757\n",
      "0.25439224531724686\n",
      "0.3361405098616312\n",
      "0.4580174563336482\n",
      "0.3707526510908267\n",
      "0.2815079167213334\n",
      "0.5309081361480653\n",
      "0.6883923488386838\n",
      "0.7811687405726224\n",
      "0.6833097735492151\n",
      "0.6414385366547648\n",
      "0.692118326966174\n",
      "0.6658327413832785\n",
      "0.6833213932804724\n",
      "0.6353282992184789\n",
      "0.7389034374091885\n",
      "0.7328498013438296\n",
      "0.7448235227107485\n",
      "0.7874878346275154\n",
      "0.5020913705013393\n",
      "FAIL\n",
      "0.7034204289510111\n",
      "FAIL\n",
      "0.26277499597339843\n",
      "FAIL\n",
      "0.37736950409705544\n",
      "FAIL\n",
      "0.33072819181124563\n",
      "FAIL\n"
     ]
    }
   ],
   "source": [
    "# test = wz.session.query(wz.sfg).filter(wz.sfg.name == \"20121204_SFG-DPPC-8_31muL-(1_04mM)-#1\").one()\n",
    "# test = wz.construct_sfg(test)\n",
    "# test.y = test.raw_intensity\n",
    "from spectrum import SfgAverager\n",
    "\n",
    "from sqlalchemy.exc import IntegrityError\n",
    "def get_gasex_references(wz):\n",
    "    dates = {}\n",
    "    q = wz.session.query(wz.sfg).filter(wz.sfg.measured_time.between(\"2018-06-01\", \"2018-12-31\"))\n",
    "    q = q.filter(wz.sfg.name.like(\"%DPPC%\"))\n",
    "\n",
    "    for item in q.all():\n",
    "        date = item.measured_time.date()\n",
    "        if date not in dates:\n",
    "            dates[date] = [wz.construct_sfg(item)]\n",
    "        else:\n",
    "            dates[date].append(wz.construct_sfg(item))\n",
    "        \n",
    "    for key in dates:\n",
    "        dates[key] = SfgAverager(dates[key]).integral\n",
    "    \n",
    "    return dates\n",
    "            \n",
    "def persist_gasex_references(wz):\n",
    "    \n",
    "    d = get_gasex_references(wz)\n",
    "    for key in d:\n",
    "        try:\n",
    "            measurement_day = wz.measurement_days()\n",
    "            measurement_day.date = key\n",
    "            measurement_day.dppc_integral = d[key]\n",
    "            print(d[key])\n",
    "            wz.session.add(measurement_day)\n",
    "            wz.session.commit()\n",
    "        except IntegrityError:\n",
    "            print(\"FAIL\")\n",
    "            wz.session.rollback()\n",
    "\n",
    "\n",
    "persist_gasex_references(wz)\n",
    "\n"
   ]
  },
  {
   "cell_type": "code",
   "execution_count": null,
   "metadata": {},
   "outputs": [],
   "source": []
  },
  {
   "cell_type": "code",
   "execution_count": null,
   "metadata": {},
   "outputs": [],
   "source": []
  }
 ],
 "metadata": {
  "kernelspec": {
   "display_name": "Python 3",
   "language": "python",
   "name": "python3"
  },
  "language_info": {
   "codemirror_mode": {
    "name": "ipython",
    "version": 3
   },
   "file_extension": ".py",
   "mimetype": "text/x-python",
   "name": "python",
   "nbconvert_exporter": "python",
   "pygments_lexer": "ipython3",
   "version": "3.6.9"
  }
 },
 "nbformat": 4,
 "nbformat_minor": 2
}
